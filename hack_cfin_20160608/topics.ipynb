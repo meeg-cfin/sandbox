{
 "cells": [
  {
   "cell_type": "markdown",
   "metadata": {
    "slideshow": {
     "slide_type": "slide"
    }
   },
   "source": [
    "# HACK CFIN 1\n",
    "\n",
    "Wed 8 June 2016"
   ]
  },
  {
   "cell_type": "markdown",
   "metadata": {
    "slideshow": {
     "slide_type": "fragment"
    }
   },
   "source": [
    "* think about what **you** want to get out of this\n",
    "    * but try to frame it as something that benefits the Greater Good\n",
    "\n",
    "## Basic premise\n",
    "\n",
    "* Need to build a **community** around users, experienced or not\n",
    "    * But also need a structure that is less dependent on individuals"
   ]
  },
  {
   "cell_type": "markdown",
   "metadata": {
    "slideshow": {
     "slide_type": "subslide"
    }
   },
   "source": [
    "## Intended Learning Outcomes"
   ]
  },
  {
   "cell_type": "code",
   "execution_count": 4,
   "metadata": {
    "collapsed": true,
    "slideshow": {
     "slide_type": "skip"
    }
   },
   "outputs": [],
   "source": [
    "ILOs = None"
   ]
  },
  {
   "cell_type": "code",
   "execution_count": 6,
   "metadata": {
    "collapsed": false,
    "slideshow": {
     "slide_type": "fragment"
    }
   },
   "outputs": [
    {
     "name": "stdout",
     "output_type": "stream",
     "text": [
      "None\n"
     ]
    }
   ],
   "source": [
    "print(ILOs)"
   ]
  },
  {
   "cell_type": "markdown",
   "metadata": {
    "slideshow": {
     "slide_type": "fragment"
    }
   },
   "source": [
    "**I'm just the facilitator, not the \"host\"**\n",
    "\n",
    "### Premise (to be empirically tested)\n",
    "\n",
    "_Continuous_ development of common resources, in the open, will benefit __all__"
   ]
  },
  {
   "cell_type": "markdown",
   "metadata": {
    "slideshow": {
     "slide_type": "subslide"
    }
   },
   "source": [
    "## Potential positive outcomes\n",
    "\n",
    "Why are you all here?\n",
    "\n",
    "From my perspective, immensely successful if \n",
    "* everyone present can and will\n",
    "    * write and edit Wiki-pages\n",
    "    * Submit \"Issues\" via github for future development\n",
    "* we can start to identify where coding and documentation efforts should be focused\n",
    "    * not intention to \"be done\" after today, but that there's a plan how to continue\n",
    "* premise of community-driven development of common resource pool is adopted"
   ]
  },
  {
   "cell_type": "markdown",
   "metadata": {
    "slideshow": {
     "slide_type": "subslide"
    }
   },
   "source": [
    "### Beginners\n",
    "\n",
    "You think it's hard?"
   ]
  },
  {
   "cell_type": "markdown",
   "metadata": {
    "slideshow": {
     "slide_type": "fragment"
    }
   },
   "source": [
    "Think about the next student coming in (_who is obviously not nearly as smart as you are!_)"
   ]
  },
  {
   "cell_type": "markdown",
   "metadata": {
    "slideshow": {
     "slide_type": "fragment"
    }
   },
   "source": [
    "* sometimes posing the right questions is \"all that's needed\"\n",
    "    * github Issues\n",
    "    * mails to meeg-cfin mailing list\n",
    "* _describe what you need to start asking those questions_"
   ]
  },
  {
   "cell_type": "markdown",
   "metadata": {
    "slideshow": {
     "slide_type": "subslide"
    }
   },
   "source": [
    "### Old Timers\n",
    "\n",
    "* Beginner-insight is valuable\n",
    "    * Identify what needs to be tackled (not everything you could do matters)\n",
    "    * Find corner-cases you didn't imagine\n",
    "* use session as oppotunity to Get Things Done (code, documentation)\n",
    "    * but don't get into lengthy philosophical discussions, __produce something__"
   ]
  },
  {
   "cell_type": "markdown",
   "metadata": {
    "slideshow": {
     "slide_type": "slide"
    }
   },
   "source": [
    "## Next HACK CFIN?\n",
    "\n",
    "* Depends on whether anyone has Issues\n",
    "* Anyone can call for a HACK session\n",
    "    * propose a subset of available Issues to attack & invite\n",
    "    * \"request\" stuff to be dealt with & hope someone else organises"
   ]
  }
 ],
 "metadata": {
  "celltoolbar": "Slideshow",
  "hide_input": false,
  "kernelspec": {
   "display_name": "Python 2",
   "language": "python",
   "name": "python2"
  },
  "language_info": {
   "codemirror_mode": {
    "name": "ipython",
    "version": 2
   },
   "file_extension": ".py",
   "mimetype": "text/x-python",
   "name": "python",
   "nbconvert_exporter": "python",
   "pygments_lexer": "ipython2",
   "version": "2.7.11"
  }
 },
 "nbformat": 4,
 "nbformat_minor": 0
}
